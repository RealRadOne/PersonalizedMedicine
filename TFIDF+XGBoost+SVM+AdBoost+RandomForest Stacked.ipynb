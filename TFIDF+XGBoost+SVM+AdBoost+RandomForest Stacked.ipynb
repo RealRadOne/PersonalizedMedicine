{
 "cells": [
  {
   "cell_type": "code",
   "execution_count": 6,
   "metadata": {
    "_cell_guid": "42bf0824-90ff-44b9-bb5d-2c5b140a637b",
    "_uuid": "fa1c0c6e-5350-4516-97a4-73bedab9bbdf",
    "collapsed": true
   },
   "outputs": [],
   "source": [
    "import numpy as np # linear algebra\n",
    "import pandas as pd # data processing, CSV file I/O (e.g. pd.read_csv)\n",
    "import os\n",
    "import re\n",
    "import nltk\n",
    "import string\n",
    "import matplotlib.pyplot as plt\n",
    "from sklearn.ensemble import VotingClassifier\n",
    "from sklearn.decomposition import LatentDirichletAllocation\n",
    "from collections import Counter\n",
    "from nltk.stem import WordNetLemmatizer\n",
    "from nltk.tokenize import word_tokenize\n",
    "from nltk.corpus import stopwords\n",
    "import scipy.sparse as sp\n",
    "from sklearn.model_selection import cross_val_score\n",
    "from sklearn.feature_extraction.text import TfidfVectorizer\n",
    "from sklearn.model_selection import train_test_split\n",
    "from sklearn.metrics import log_loss, accuracy_score\n",
    "from sklearn.feature_extraction.text import CountVectorizer\n",
    "from sklearn.model_selection import cross_val_predict\n",
    "from sklearn.model_selection import StratifiedKFold\n",
    "from xgboost import XGBClassifier\n",
    "from sklearn.naive_bayes import MultinomialNB\n",
    "from sklearn.metrics import confusion_matrix, classification_report\n",
    "from sklearn.decomposition import PCA\n",
    "from sklearn.cluster import KMeans\n",
    "import lightgbm as lgb\n",
    "from string import punctuation\n",
    "from sklearn import metrics\n",
    "from sklearn.metrics import confusion_matrix, classification_report \n",
    "from sklearn.model_selection import GridSearchCV \n",
    "from sklearn.svm import SVC\n",
    "from sklearn.ensemble import BaggingClassifier, ExtraTreesClassifier, RandomForestClassifier\n",
    "from sklearn.neighbors import KNeighborsClassifier\n",
    "from sklearn.linear_model import RidgeClassifier\n",
    "from sklearn.ensemble import AdaBoostClassifier\n",
    "from sklearn.ensemble import GradientBoostingClassifier\n",
    "from sklearn.ensemble import VotingClassifier"
   ]
  },
  {
   "cell_type": "code",
   "execution_count": 7,
   "metadata": {
    "collapsed": true
   },
   "outputs": [],
   "source": [
    "for dirname, _, filenames in os.walk('/cancer-diagnosis'):\n",
    "    for filename in filenames:\n",
    "        print(os.path.join(dirname, filename))"
   ]
  },
  {
   "cell_type": "code",
   "execution_count": 8,
   "metadata": {},
   "outputs": [
    {
     "name": "stderr",
     "output_type": "stream",
     "text": [
      "E:\\Anaconda\\lib\\site-packages\\ipykernel_launcher.py:1: ParserWarning: Falling back to the 'python' engine because the 'c' engine does not support regex separators (separators > 1 char and different from '\\s+' are interpreted as regex); you can avoid this warning by specifying engine='python'.\n",
      "  \"\"\"Entry point for launching an IPython kernel.\n"
     ]
    }
   ],
   "source": [
    "training_text = pd.read_csv(\"cancer-diagnosis/training_text\",sep=\"\\|\\|\", header=None, skiprows=1, names=[\"ID\",\"Text\"])"
   ]
  },
  {
   "cell_type": "code",
   "execution_count": 9,
   "metadata": {},
   "outputs": [
    {
     "data": {
      "text/html": [
       "<div>\n",
       "<style>\n",
       "    .dataframe thead tr:only-child th {\n",
       "        text-align: right;\n",
       "    }\n",
       "\n",
       "    .dataframe thead th {\n",
       "        text-align: left;\n",
       "    }\n",
       "\n",
       "    .dataframe tbody tr th {\n",
       "        vertical-align: top;\n",
       "    }\n",
       "</style>\n",
       "<table border=\"1\" class=\"dataframe\">\n",
       "  <thead>\n",
       "    <tr style=\"text-align: right;\">\n",
       "      <th></th>\n",
       "      <th>ID</th>\n",
       "      <th>Text</th>\n",
       "    </tr>\n",
       "  </thead>\n",
       "  <tbody>\n",
       "    <tr>\n",
       "      <th>0</th>\n",
       "      <td>0</td>\n",
       "      <td>Cyclin-dependent kinases (CDKs) regulate a var...</td>\n",
       "    </tr>\n",
       "    <tr>\n",
       "      <th>1</th>\n",
       "      <td>1</td>\n",
       "      <td>Abstract Background  Non-small cell lung canc...</td>\n",
       "    </tr>\n",
       "    <tr>\n",
       "      <th>2</th>\n",
       "      <td>2</td>\n",
       "      <td>Abstract Background  Non-small cell lung canc...</td>\n",
       "    </tr>\n",
       "    <tr>\n",
       "      <th>3</th>\n",
       "      <td>3</td>\n",
       "      <td>Recent evidence has demonstrated that acquired...</td>\n",
       "    </tr>\n",
       "    <tr>\n",
       "      <th>4</th>\n",
       "      <td>4</td>\n",
       "      <td>Oncogenic mutations in the monomeric Casitas B...</td>\n",
       "    </tr>\n",
       "  </tbody>\n",
       "</table>\n",
       "</div>"
      ],
      "text/plain": [
       "   ID                                               Text\n",
       "0   0  Cyclin-dependent kinases (CDKs) regulate a var...\n",
       "1   1   Abstract Background  Non-small cell lung canc...\n",
       "2   2   Abstract Background  Non-small cell lung canc...\n",
       "3   3  Recent evidence has demonstrated that acquired...\n",
       "4   4  Oncogenic mutations in the monomeric Casitas B..."
      ]
     },
     "execution_count": 9,
     "metadata": {},
     "output_type": "execute_result"
    }
   ],
   "source": [
    "training_text.head(5)"
   ]
  },
  {
   "cell_type": "code",
   "execution_count": 10,
   "metadata": {},
   "outputs": [
    {
     "data": {
      "text/plain": [
       "(3321, 2)"
      ]
     },
     "execution_count": 10,
     "metadata": {},
     "output_type": "execute_result"
    }
   ],
   "source": [
    "training_text.shape"
   ]
  },
  {
   "cell_type": "code",
   "execution_count": 12,
   "metadata": {
    "collapsed": true
   },
   "outputs": [],
   "source": [
    "training_variants = pd.read_csv(\"cancer-diagnosis/training_variants\")"
   ]
  },
  {
   "cell_type": "code",
   "execution_count": 13,
   "metadata": {},
   "outputs": [
    {
     "data": {
      "text/html": [
       "<div>\n",
       "<style>\n",
       "    .dataframe thead tr:only-child th {\n",
       "        text-align: right;\n",
       "    }\n",
       "\n",
       "    .dataframe thead th {\n",
       "        text-align: left;\n",
       "    }\n",
       "\n",
       "    .dataframe tbody tr th {\n",
       "        vertical-align: top;\n",
       "    }\n",
       "</style>\n",
       "<table border=\"1\" class=\"dataframe\">\n",
       "  <thead>\n",
       "    <tr style=\"text-align: right;\">\n",
       "      <th></th>\n",
       "      <th>ID</th>\n",
       "      <th>Gene</th>\n",
       "      <th>Variation</th>\n",
       "      <th>Class</th>\n",
       "    </tr>\n",
       "  </thead>\n",
       "  <tbody>\n",
       "    <tr>\n",
       "      <th>0</th>\n",
       "      <td>0</td>\n",
       "      <td>FAM58A</td>\n",
       "      <td>Truncating Mutations</td>\n",
       "      <td>1</td>\n",
       "    </tr>\n",
       "    <tr>\n",
       "      <th>1</th>\n",
       "      <td>1</td>\n",
       "      <td>CBL</td>\n",
       "      <td>W802*</td>\n",
       "      <td>2</td>\n",
       "    </tr>\n",
       "    <tr>\n",
       "      <th>2</th>\n",
       "      <td>2</td>\n",
       "      <td>CBL</td>\n",
       "      <td>Q249E</td>\n",
       "      <td>2</td>\n",
       "    </tr>\n",
       "    <tr>\n",
       "      <th>3</th>\n",
       "      <td>3</td>\n",
       "      <td>CBL</td>\n",
       "      <td>N454D</td>\n",
       "      <td>3</td>\n",
       "    </tr>\n",
       "    <tr>\n",
       "      <th>4</th>\n",
       "      <td>4</td>\n",
       "      <td>CBL</td>\n",
       "      <td>L399V</td>\n",
       "      <td>4</td>\n",
       "    </tr>\n",
       "  </tbody>\n",
       "</table>\n",
       "</div>"
      ],
      "text/plain": [
       "   ID    Gene             Variation  Class\n",
       "0   0  FAM58A  Truncating Mutations      1\n",
       "1   1     CBL                 W802*      2\n",
       "2   2     CBL                 Q249E      2\n",
       "3   3     CBL                 N454D      3\n",
       "4   4     CBL                 L399V      4"
      ]
     },
     "execution_count": 13,
     "metadata": {},
     "output_type": "execute_result"
    }
   ],
   "source": [
    "training_variants.head(5)"
   ]
  },
  {
   "cell_type": "code",
   "execution_count": 14,
   "metadata": {
    "collapsed": true
   },
   "outputs": [],
   "source": [
    "#Merging variants and text on ID"
   ]
  },
  {
   "cell_type": "code",
   "execution_count": 15,
   "metadata": {
    "collapsed": true
   },
   "outputs": [],
   "source": [
    "training_merge = training_variants.merge(training_text,left_on=\"ID\",right_on=\"ID\")"
   ]
  },
  {
   "cell_type": "code",
   "execution_count": 16,
   "metadata": {},
   "outputs": [
    {
     "data": {
      "text/html": [
       "<div>\n",
       "<style>\n",
       "    .dataframe thead tr:only-child th {\n",
       "        text-align: right;\n",
       "    }\n",
       "\n",
       "    .dataframe thead th {\n",
       "        text-align: left;\n",
       "    }\n",
       "\n",
       "    .dataframe tbody tr th {\n",
       "        vertical-align: top;\n",
       "    }\n",
       "</style>\n",
       "<table border=\"1\" class=\"dataframe\">\n",
       "  <thead>\n",
       "    <tr style=\"text-align: right;\">\n",
       "      <th></th>\n",
       "      <th>ID</th>\n",
       "      <th>Gene</th>\n",
       "      <th>Variation</th>\n",
       "      <th>Class</th>\n",
       "      <th>Text</th>\n",
       "    </tr>\n",
       "  </thead>\n",
       "  <tbody>\n",
       "    <tr>\n",
       "      <th>0</th>\n",
       "      <td>0</td>\n",
       "      <td>FAM58A</td>\n",
       "      <td>Truncating Mutations</td>\n",
       "      <td>1</td>\n",
       "      <td>Cyclin-dependent kinases (CDKs) regulate a var...</td>\n",
       "    </tr>\n",
       "    <tr>\n",
       "      <th>1</th>\n",
       "      <td>1</td>\n",
       "      <td>CBL</td>\n",
       "      <td>W802*</td>\n",
       "      <td>2</td>\n",
       "      <td>Abstract Background  Non-small cell lung canc...</td>\n",
       "    </tr>\n",
       "    <tr>\n",
       "      <th>2</th>\n",
       "      <td>2</td>\n",
       "      <td>CBL</td>\n",
       "      <td>Q249E</td>\n",
       "      <td>2</td>\n",
       "      <td>Abstract Background  Non-small cell lung canc...</td>\n",
       "    </tr>\n",
       "    <tr>\n",
       "      <th>3</th>\n",
       "      <td>3</td>\n",
       "      <td>CBL</td>\n",
       "      <td>N454D</td>\n",
       "      <td>3</td>\n",
       "      <td>Recent evidence has demonstrated that acquired...</td>\n",
       "    </tr>\n",
       "    <tr>\n",
       "      <th>4</th>\n",
       "      <td>4</td>\n",
       "      <td>CBL</td>\n",
       "      <td>L399V</td>\n",
       "      <td>4</td>\n",
       "      <td>Oncogenic mutations in the monomeric Casitas B...</td>\n",
       "    </tr>\n",
       "  </tbody>\n",
       "</table>\n",
       "</div>"
      ],
      "text/plain": [
       "   ID    Gene             Variation  Class  \\\n",
       "0   0  FAM58A  Truncating Mutations      1   \n",
       "1   1     CBL                 W802*      2   \n",
       "2   2     CBL                 Q249E      2   \n",
       "3   3     CBL                 N454D      3   \n",
       "4   4     CBL                 L399V      4   \n",
       "\n",
       "                                                Text  \n",
       "0  Cyclin-dependent kinases (CDKs) regulate a var...  \n",
       "1   Abstract Background  Non-small cell lung canc...  \n",
       "2   Abstract Background  Non-small cell lung canc...  \n",
       "3  Recent evidence has demonstrated that acquired...  \n",
       "4  Oncogenic mutations in the monomeric Casitas B...  "
      ]
     },
     "execution_count": 16,
     "metadata": {},
     "output_type": "execute_result"
    }
   ],
   "source": [
    "training_merge.head(5)\n",
    "#Now we have the data"
   ]
  },
  {
   "cell_type": "code",
   "execution_count": 17,
   "metadata": {},
   "outputs": [
    {
     "data": {
      "text/plain": [
       "(3321, 5)"
      ]
     },
     "execution_count": 17,
     "metadata": {},
     "output_type": "execute_result"
    }
   ],
   "source": [
    "training_merge.shape"
   ]
  },
  {
   "cell_type": "code",
   "execution_count": 58,
   "metadata": {},
   "outputs": [
    {
     "name": "stderr",
     "output_type": "stream",
     "text": [
      "E:\\Anaconda\\lib\\site-packages\\ipykernel_launcher.py:1: ParserWarning: Falling back to the 'python' engine because the 'c' engine does not support regex separators (separators > 1 char and different from '\\s+' are interpreted as regex); you can avoid this warning by specifying engine='python'.\n",
      "  \"\"\"Entry point for launching an IPython kernel.\n"
     ]
    }
   ],
   "source": [
    "test_text = pd.read_csv(\"cancertreatment/stage2_test_text.csv\",sep=\"\\|\\|\", header=None, skiprows=1, names=[\"ID\",\"Text\"])"
   ]
  },
  {
   "cell_type": "code",
   "execution_count": 59,
   "metadata": {},
   "outputs": [
    {
     "data": {
      "text/plain": [
       "(986, 2)"
      ]
     },
     "execution_count": 59,
     "metadata": {},
     "output_type": "execute_result"
    }
   ],
   "source": [
    "test_text.shape"
   ]
  },
  {
   "cell_type": "code",
   "execution_count": 60,
   "metadata": {
    "collapsed": true
   },
   "outputs": [],
   "source": [
    "test_variants = pd.read_csv(\"cancertreatment/stage2_test_variants.csv\")"
   ]
  },
  {
   "cell_type": "code",
   "execution_count": 61,
   "metadata": {},
   "outputs": [
    {
     "data": {
      "text/plain": [
       "(986, 3)"
      ]
     },
     "execution_count": 61,
     "metadata": {},
     "output_type": "execute_result"
    }
   ],
   "source": [
    "test_variants.shape"
   ]
  },
  {
   "cell_type": "code",
   "execution_count": 62,
   "metadata": {
    "collapsed": true
   },
   "outputs": [],
   "source": [
    "test_merge = test_variants.merge(test_text,left_on=\"ID\",right_on=\"ID\")"
   ]
  },
  {
   "cell_type": "code",
   "execution_count": 63,
   "metadata": {},
   "outputs": [
    {
     "name": "stdout",
     "output_type": "stream",
     "text": [
      "<class 'pandas.core.frame.DataFrame'>\n",
      "Int64Index: 986 entries, 0 to 985\n",
      "Data columns (total 4 columns):\n",
      "ID           986 non-null int64\n",
      "Gene         986 non-null object\n",
      "Variation    986 non-null object\n",
      "Text         986 non-null object\n",
      "dtypes: int64(1), object(3)\n",
      "memory usage: 38.5+ KB\n"
     ]
    }
   ],
   "source": [
    "# Let's understand the type of values present in each column of our dataframe 'train_merge' dataframe.\n",
    "test_merge.info()"
   ]
  },
  {
   "cell_type": "code",
   "execution_count": 21,
   "metadata": {},
   "outputs": [
    {
     "data": {
      "text/html": [
       "<div>\n",
       "<style>\n",
       "    .dataframe thead tr:only-child th {\n",
       "        text-align: right;\n",
       "    }\n",
       "\n",
       "    .dataframe thead th {\n",
       "        text-align: left;\n",
       "    }\n",
       "\n",
       "    .dataframe tbody tr th {\n",
       "        vertical-align: top;\n",
       "    }\n",
       "</style>\n",
       "<table border=\"1\" class=\"dataframe\">\n",
       "  <thead>\n",
       "    <tr style=\"text-align: right;\">\n",
       "      <th></th>\n",
       "      <th>ID</th>\n",
       "      <th>Gene</th>\n",
       "      <th>Variation</th>\n",
       "      <th>Class</th>\n",
       "      <th>Text</th>\n",
       "    </tr>\n",
       "  </thead>\n",
       "  <tbody>\n",
       "    <tr>\n",
       "      <th>count</th>\n",
       "      <td>3321.000000</td>\n",
       "      <td>3321</td>\n",
       "      <td>3321</td>\n",
       "      <td>3321.000000</td>\n",
       "      <td>3321</td>\n",
       "    </tr>\n",
       "    <tr>\n",
       "      <th>unique</th>\n",
       "      <td>NaN</td>\n",
       "      <td>264</td>\n",
       "      <td>2996</td>\n",
       "      <td>NaN</td>\n",
       "      <td>1921</td>\n",
       "    </tr>\n",
       "    <tr>\n",
       "      <th>top</th>\n",
       "      <td>NaN</td>\n",
       "      <td>BRCA1</td>\n",
       "      <td>Truncating Mutations</td>\n",
       "      <td>NaN</td>\n",
       "      <td>The PTEN (phosphatase and tensin homolog) phos...</td>\n",
       "    </tr>\n",
       "    <tr>\n",
       "      <th>freq</th>\n",
       "      <td>NaN</td>\n",
       "      <td>264</td>\n",
       "      <td>93</td>\n",
       "      <td>NaN</td>\n",
       "      <td>53</td>\n",
       "    </tr>\n",
       "    <tr>\n",
       "      <th>mean</th>\n",
       "      <td>1660.000000</td>\n",
       "      <td>NaN</td>\n",
       "      <td>NaN</td>\n",
       "      <td>4.365854</td>\n",
       "      <td>NaN</td>\n",
       "    </tr>\n",
       "    <tr>\n",
       "      <th>std</th>\n",
       "      <td>958.834449</td>\n",
       "      <td>NaN</td>\n",
       "      <td>NaN</td>\n",
       "      <td>2.309781</td>\n",
       "      <td>NaN</td>\n",
       "    </tr>\n",
       "    <tr>\n",
       "      <th>min</th>\n",
       "      <td>0.000000</td>\n",
       "      <td>NaN</td>\n",
       "      <td>NaN</td>\n",
       "      <td>1.000000</td>\n",
       "      <td>NaN</td>\n",
       "    </tr>\n",
       "    <tr>\n",
       "      <th>25%</th>\n",
       "      <td>830.000000</td>\n",
       "      <td>NaN</td>\n",
       "      <td>NaN</td>\n",
       "      <td>2.000000</td>\n",
       "      <td>NaN</td>\n",
       "    </tr>\n",
       "    <tr>\n",
       "      <th>50%</th>\n",
       "      <td>1660.000000</td>\n",
       "      <td>NaN</td>\n",
       "      <td>NaN</td>\n",
       "      <td>4.000000</td>\n",
       "      <td>NaN</td>\n",
       "    </tr>\n",
       "    <tr>\n",
       "      <th>75%</th>\n",
       "      <td>2490.000000</td>\n",
       "      <td>NaN</td>\n",
       "      <td>NaN</td>\n",
       "      <td>7.000000</td>\n",
       "      <td>NaN</td>\n",
       "    </tr>\n",
       "    <tr>\n",
       "      <th>max</th>\n",
       "      <td>3320.000000</td>\n",
       "      <td>NaN</td>\n",
       "      <td>NaN</td>\n",
       "      <td>9.000000</td>\n",
       "      <td>NaN</td>\n",
       "    </tr>\n",
       "  </tbody>\n",
       "</table>\n",
       "</div>"
      ],
      "text/plain": [
       "                 ID   Gene             Variation        Class  \\\n",
       "count   3321.000000   3321                  3321  3321.000000   \n",
       "unique          NaN    264                  2996          NaN   \n",
       "top             NaN  BRCA1  Truncating Mutations          NaN   \n",
       "freq            NaN    264                    93          NaN   \n",
       "mean    1660.000000    NaN                   NaN     4.365854   \n",
       "std      958.834449    NaN                   NaN     2.309781   \n",
       "min        0.000000    NaN                   NaN     1.000000   \n",
       "25%      830.000000    NaN                   NaN     2.000000   \n",
       "50%     1660.000000    NaN                   NaN     4.000000   \n",
       "75%     2490.000000    NaN                   NaN     7.000000   \n",
       "max     3320.000000    NaN                   NaN     9.000000   \n",
       "\n",
       "                                                     Text  \n",
       "count                                                3321  \n",
       "unique                                               1921  \n",
       "top     The PTEN (phosphatase and tensin homolog) phos...  \n",
       "freq                                                   53  \n",
       "mean                                                  NaN  \n",
       "std                                                   NaN  \n",
       "min                                                   NaN  \n",
       "25%                                                   NaN  \n",
       "50%                                                   NaN  \n",
       "75%                                                   NaN  \n",
       "max                                                   NaN  "
      ]
     },
     "execution_count": 21,
     "metadata": {},
     "output_type": "execute_result"
    }
   ],
   "source": [
    "training_merge.describe(include='all')"
   ]
  },
  {
   "cell_type": "code",
   "execution_count": 22,
   "metadata": {},
   "outputs": [
    {
     "data": {
      "text/plain": [
       "ID           0\n",
       "Gene         0\n",
       "Variation    0\n",
       "Class        0\n",
       "Text         0\n",
       "dtype: int64"
      ]
     },
     "execution_count": 22,
     "metadata": {},
     "output_type": "execute_result"
    }
   ],
   "source": [
    "training_merge.isnull().sum()"
   ]
  },
  {
   "cell_type": "code",
   "execution_count": 23,
   "metadata": {},
   "outputs": [
    {
     "data": {
      "text/plain": [
       "Index(['ID', 'Gene', 'Variation', 'Class', 'Text'], dtype='object')"
      ]
     },
     "execution_count": 23,
     "metadata": {},
     "output_type": "execute_result"
    }
   ],
   "source": [
    "training_merge.columns"
   ]
  },
  {
   "cell_type": "code",
   "execution_count": 24,
   "metadata": {
    "collapsed": true
   },
   "outputs": [],
   "source": [
    "training_merge[\"Text_num_words\"] = training_merge[\"Text\"].apply(lambda x: len(str(x).split()) )\n",
    "training_merge[\"Text_num_chars\"] = training_merge[\"Text\"].apply(lambda x: len(str(x)) )"
   ]
  },
  {
   "cell_type": "code",
   "execution_count": 25,
   "metadata": {},
   "outputs": [
    {
     "data": {
      "text/plain": [
       "count                     3321\n",
       "unique                    2996\n",
       "top       Truncating Mutations\n",
       "freq                        93\n",
       "Name: Variation, dtype: object"
      ]
     },
     "execution_count": 25,
     "metadata": {},
     "output_type": "execute_result"
    }
   ],
   "source": [
    "training_merge['Variation'].describe()"
   ]
  },
  {
   "cell_type": "code",
   "execution_count": 26,
   "metadata": {},
   "outputs": [
    {
     "data": {
      "text/plain": [
       "count      3321\n",
       "unique      264\n",
       "top       BRCA1\n",
       "freq        264\n",
       "Name: Gene, dtype: object"
      ]
     },
     "execution_count": 26,
     "metadata": {},
     "output_type": "execute_result"
    }
   ],
   "source": [
    "training_merge['Gene'].describe()"
   ]
  },
  {
   "cell_type": "code",
   "execution_count": 27,
   "metadata": {
    "collapsed": true
   },
   "outputs": [],
   "source": [
    "#Tokenzing-splitting up a larger body of text into smaller lines, words or even creating words "
   ]
  },
  {
   "cell_type": "code",
   "execution_count": 28,
   "metadata": {
    "collapsed": true
   },
   "outputs": [],
   "source": [
    "#imputing gene row value to null data of text rows as for all other columns, Gene values are present in Text data\n",
    "training_merge['Text'] = training_merge.apply(lambda row: row['Gene'] if pd.isnull(row['Text']) else row['Text'],axis=1)"
   ]
  },
  {
   "cell_type": "code",
   "execution_count": 29,
   "metadata": {},
   "outputs": [
    {
     "data": {
      "text/plain": [
       "ID                0\n",
       "Gene              0\n",
       "Variation         0\n",
       "Class             0\n",
       "Text              0\n",
       "Text_num_words    0\n",
       "Text_num_chars    0\n",
       "dtype: int64"
      ]
     },
     "execution_count": 29,
     "metadata": {},
     "output_type": "execute_result"
    }
   ],
   "source": [
    "training_merge.isnull().sum()"
   ]
  },
  {
   "cell_type": "code",
   "execution_count": 30,
   "metadata": {
    "collapsed": true
   },
   "outputs": [],
   "source": [
    "training_merge.drop([\"Text_num_words\",\"Text_num_chars\"],axis=1,inplace=True)"
   ]
  },
  {
   "cell_type": "code",
   "execution_count": 31,
   "metadata": {
    "collapsed": true
   },
   "outputs": [],
   "source": [
    "stop_words = set(stopwords.words('english'))"
   ]
  },
  {
   "cell_type": "code",
   "execution_count": 32,
   "metadata": {
    "collapsed": true
   },
   "outputs": [],
   "source": [
    "def data_text_preprocess(total_text, ind, col):\n",
    "    # Remove int values from text data as that might not be imp\n",
    "    if type(total_text) is not int:\n",
    "        string = \"\"\n",
    "        # replacing all special char with space\n",
    "        total_text = re.sub('[^a-zA-Z0-9\\n]', ' ', str(total_text))\n",
    "        # replacing multiple spaces with single space\n",
    "        total_text = re.sub('\\s+',' ', str(total_text))\n",
    "        # bring whole text to same lower-case scale.\n",
    "        total_text = total_text.lower()\n",
    "        \n",
    "        for word in total_text.split():\n",
    "        # if the word is a not a stop word then retain that word from text\n",
    "            if not word in stop_words:\n",
    "                string += word + \" \"\n",
    "        \n",
    "        training_merge[col][ind] = string"
   ]
  },
  {
   "cell_type": "code",
   "execution_count": 39,
   "metadata": {},
   "outputs": [
    {
     "name": "stderr",
     "output_type": "stream",
     "text": [
      "E:\\Anaconda\\lib\\site-packages\\ipykernel_launcher.py:17: SettingWithCopyWarning: \n",
      "A value is trying to be set on a copy of a slice from a DataFrame\n",
      "\n",
      "See the caveats in the documentation: http://pandas.pydata.org/pandas-docs/stable/indexing.html#indexing-view-versus-copy\n"
     ]
    }
   ],
   "source": [
    "for index, row in training_merge.iterrows():\n",
    "    if type(row['Text']) is str:\n",
    "        data_text_preprocess(row['Text'], index, 'Text')"
   ]
  },
  {
   "cell_type": "code",
   "execution_count": 41,
   "metadata": {},
   "outputs": [
    {
     "data": {
      "text/plain": [
       "(3321, 5)"
      ]
     },
     "execution_count": 41,
     "metadata": {},
     "output_type": "execute_result"
    }
   ],
   "source": [
    "training_merge.shape"
   ]
  },
  {
   "cell_type": "code",
   "execution_count": 43,
   "metadata": {},
   "outputs": [
    {
     "data": {
      "text/html": [
       "<div>\n",
       "<style>\n",
       "    .dataframe thead tr:only-child th {\n",
       "        text-align: right;\n",
       "    }\n",
       "\n",
       "    .dataframe thead th {\n",
       "        text-align: left;\n",
       "    }\n",
       "\n",
       "    .dataframe tbody tr th {\n",
       "        vertical-align: top;\n",
       "    }\n",
       "</style>\n",
       "<table border=\"1\" class=\"dataframe\">\n",
       "  <thead>\n",
       "    <tr style=\"text-align: right;\">\n",
       "      <th></th>\n",
       "      <th>ID</th>\n",
       "      <th>Gene</th>\n",
       "      <th>Variation</th>\n",
       "      <th>Class</th>\n",
       "      <th>Text</th>\n",
       "    </tr>\n",
       "  </thead>\n",
       "  <tbody>\n",
       "    <tr>\n",
       "      <th>0</th>\n",
       "      <td>0</td>\n",
       "      <td>FAM58A</td>\n",
       "      <td>Truncating Mutations</td>\n",
       "      <td>1</td>\n",
       "      <td>cyclin dependent kinases cdks regulate variety...</td>\n",
       "    </tr>\n",
       "    <tr>\n",
       "      <th>1</th>\n",
       "      <td>1</td>\n",
       "      <td>CBL</td>\n",
       "      <td>W802*</td>\n",
       "      <td>2</td>\n",
       "      <td>abstract background non small cell lung cancer...</td>\n",
       "    </tr>\n",
       "    <tr>\n",
       "      <th>2</th>\n",
       "      <td>2</td>\n",
       "      <td>CBL</td>\n",
       "      <td>Q249E</td>\n",
       "      <td>2</td>\n",
       "      <td>abstract background non small cell lung cancer...</td>\n",
       "    </tr>\n",
       "    <tr>\n",
       "      <th>3</th>\n",
       "      <td>3</td>\n",
       "      <td>CBL</td>\n",
       "      <td>N454D</td>\n",
       "      <td>3</td>\n",
       "      <td>recent evidence demonstrated acquired uniparen...</td>\n",
       "    </tr>\n",
       "    <tr>\n",
       "      <th>4</th>\n",
       "      <td>4</td>\n",
       "      <td>CBL</td>\n",
       "      <td>L399V</td>\n",
       "      <td>4</td>\n",
       "      <td>oncogenic mutations monomeric casitas b lineag...</td>\n",
       "    </tr>\n",
       "  </tbody>\n",
       "</table>\n",
       "</div>"
      ],
      "text/plain": [
       "   ID    Gene             Variation  Class  \\\n",
       "0   0  FAM58A  Truncating Mutations      1   \n",
       "1   1     CBL                 W802*      2   \n",
       "2   2     CBL                 Q249E      2   \n",
       "3   3     CBL                 N454D      3   \n",
       "4   4     CBL                 L399V      4   \n",
       "\n",
       "                                                Text  \n",
       "0  cyclin dependent kinases cdks regulate variety...  \n",
       "1  abstract background non small cell lung cancer...  \n",
       "2  abstract background non small cell lung cancer...  \n",
       "3  recent evidence demonstrated acquired uniparen...  \n",
       "4  oncogenic mutations monomeric casitas b lineag...  "
      ]
     },
     "execution_count": 43,
     "metadata": {},
     "output_type": "execute_result"
    }
   ],
   "source": [
    "training_merge.head()"
   ]
  },
  {
   "cell_type": "code",
   "execution_count": 45,
   "metadata": {},
   "outputs": [
    {
     "data": {
      "text/plain": [
       "'cyclin dependent kinases cdks regulate variety fundamental cellular processes cdk10 stands one last orphan cdks activating cyclin identified kinase activity revealed previous work shown cdk10 silencing increases ets2 v ets erythroblastosis virus e26 oncogene homolog 2 driven activation mapk pathway confers tamoxifen resistance breast cancer cells precise mechanisms cdk10 modulates ets2 activity generally functions cdk10 remain elusive demonstrate cdk10 cyclin dependent kinase identifying cyclin activating cyclin cyclin orphan cyclin product fam58a whose mutations cause star syndrome human developmental anomaly whose features include toe syndactyly telecanthus anogenital renal malformations show star syndrome associated cyclin mutants unable interact cdk10 cyclin silencing phenocopies cdk10 silencing increasing c raf conferring tamoxifen resistance breast cancer cells cdk10 cyclin phosphorylates ets2 vitro cells positively controls ets2 degradation proteasome ets2 protein levels increased cells derived star patient increase attributable decreased cyclin levels altogether results reveal additional regulatory mechanism ets2 plays key roles cancer development also shed light molecular mechanisms underlying star syndrome cyclin dependent kinases cdks play pivotal role control number fundamental cellular processes 1 human genome contains 21 genes encoding proteins considered members cdk family owing sequence similarity bona fide cdks known activated cyclins 2 although discovered almost 20 ago 3 4 cdk10 remains one two cdks without identified cyclin partner knowledge gap largely impeded exploration biological functions cdk10 act positive cell cycle regulator cells 5 6 tumor suppressor others 7 8 cdk10 interacts ets2 v ets erythroblastosis virus e26 oncogene homolog 2 transcription factor inhibits transcriptional activity unknown mechanism 9 cdk10 knockdown derepresses ets2 increases expression c raf protein kinase activates mapk pathway induces resistance mcf7 cells tamoxifen 6 deorphanize cdk10 identifying cyclin product fam58a binding partner mutations gene predict absence truncation cyclin associated star syndrome whose features include toe syndactyly telecanthus anogenital renal malformations heterozygous females 10 however functions cyclin pathogenesis star syndrome remain unknown show recombinant cdk10 cyclin heterodimer active protein kinase phosphorylates ets2 vitro cyclin silencing phenocopies cdk10 silencing increasing c raf phospho erk expression levels inducing tamoxifen resistance estrogen receptor er breast cancer cells show cdk10 cyclin positively controls ets2 degradation proteasome phosphorylation two neighboring serines finally detect increased ets2 expression level cells derived star patient demonstrate attributable decreased cyclin expression level observed cells previous sectionnext sectionresultsa yeast two hybrid y2h screen unveiled interaction signal cdk10 mouse protein whose c terminal half presents strong sequence homology human fam58a gene product whose proposed name cyclin 11 thus performed y2h mating assays determine whether human cdk10 interacts human cyclin fig 1 c longest cdk10 isoform p1 expressed bait protein produced strong interaction phenotype full length cyclin expressed prey protein detectable phenotype cyclin d1 p21 cip1 cdi1 kap known binding partners cdks fig 1b cdk1 cdk3 also produced y2h signals cyclin albeit notably weaker observed cdk10 fig 1b interaction phenotype also observed full length cyclin cdk10 proteins expressed bait prey respectively fig s1a tested different isoforms cdk10 cyclin originating alternative gene splicing two truncated cyclin proteins corresponding hypothetical products two mutated fam58a genes found star syndrome patients 10 none shorter isoforms produced interaction phenotypes fig 1 c fig s1a fig 1 new window download pptfig 1 cdk10 cyclin form interaction complex schematic representation different protein isoforms analyzed y2h assays amino acid numbers indicated black boxes indicate internal deletions red box indicates differing amino acid sequence compared cdk10 p1 b y2h assay set cdk proteins expressed baits fusion lexa dna binding domain cdk interacting proteins expressed preys fusion b42 transcriptional activator peg202 pjg4 5 empty bait prey plasmids expressing lexa b42 respectively lacz used reporter gene blue yeast indicative y2h interaction phenotype c y2h assay different cdk10 cyclin isoforms amino terminal region ets2 known interact cdk10 9 also assayed western blot analysis myc cdk10 wt kd cycm v5 6his expression levels transfected hek293 cells e western blot analysis myc cdk10 wt kd immunoprecipitates obtained using anti myc antibody inputs correspond 10 g total lysates obtained hek293 cells coexpressing myc cdk10 wt kd cycm v5 6his f western blot analysis immunoprecipitates obtained using anti cdk10 antibody control goat antibody human breast cancer mcf7 cells input corresponds 30 g mcf7 total cell lysates lower band doublet observed upper panel comigrates exogenously expressed untagged cdk10 thus corresponds endogenous cdk10 upper band doublet corresponds nonspecific signal demonstrated insensitivity either overexpression cdk10 seen left lane silencing cdk10 fig s2b another experiment longer gel migration shown fig s1d next examined ability cdk10 cyclin interact expressed human cells fig 1 e tested wild type cdk10 wt kinase dead kd mutant bearing d181a amino acid substitution abolishes atp binding 12 expressed cyclin v5 6his myc cdk10 wt kd human embryonic kidney cell line hek293 expression level cyclin v5 6his significantly increased upon coexpression myc cdk10 wt kd lesser extent myc cdk10 wt kd increased upon coexpression cyclin v5 6his fig 1d immunoprecipitated myc cdk10 proteins detected presence cyclin cdk10 wt kd immunoprecipitates proteins coexpressed pair wise fig 1e confirmed observations detecting presence myc cdk10 cyclin v5 6his immunoprecipitates fig s1b experiments confirmed lack robust interaction cdk10 p2 isoform cyclin fig s1c detect interaction endogenous proteins performed immunoprecipitations nontransfected mcf7 cells derived human breast cancer cdk10 cyclin antibodies detected cognate endogenous proteins western blotting readily detected cyclin immunoprecipitates obtained cdk10 antibody control antibody fig 1f results confirm physical interaction cdk10 cyclin human cells unveil hypothesized cdk10 cyclin protein kinase activity produced gst cdk10 strepii cyclin fusion proteins insect cells either individually combination observed gst cdk10 strepii cyclin copurified thus confirming interaction yet another cellular model fig 2a performed vitro kinase assays purified proteins using histone h1 generic substrate histone h1 phosphorylation detected lysates cells coexpressing gst cdk10 strepii cyclin phosphorylation detected gst cdk10 strepii cyclin expressed alone strepii cyclin coexpressed gst cdk10 kd fig 2a next investigated whether ets2 known interact cdk10 9 fig 1c phosphorylation substrate cdk10 cyclin detected strong phosphorylation ets2 gst cdk10 strepii cyclin purified heterodimer whereas phosphorylation detected using gst cdk10 alone gst cdk10 kd strepii cyclin heterodimer fig 2b fig 2 new window download pptfig 2 cdk10 cyclin dependent protein kinase vitro protein kinase assay histone h1 lysates insect cells expressing different proteins purified glutathione sepharose matrix capture gst cdk10 wt kd fusion proteins alone complex str cycm fusion protein purified protein expression levels analyzed western blots top upper middle kinase activity determined autoradiography histone h1 whose added amounts visualized coomassie staining lower middle bottom b using purified recombinant 6his ets2 substrate cdk10 silencing shown increase ets2 driven c raf transcription activate mapk pathway 6 investigated whether cyclin also involved regulatory pathway aim highly specific silencing used sirna pools mix four different sirnas low final concentration 10 nm cdk10 cyclin sirna pools silenced expression cognate targets fig 3 c fig s2 interestingly cyclin sirna pool also caused marked decrease cdk10 protein level fig 3a fig s2b results shown fig 1d suggest cyclin binding stabilizes cdk10 cyclin silencing induced increase c raf protein mrna levels fig 3 b c phosphorylated erk1 erk2 protein levels fig s3b similarly cdk10 silencing expected effects 6 cdk10 cyclin silencing decreased sensitivity er mcf7 cells tamoxifen similar extent combined silencing genes result higher resistance drug fig s3c altogether observations demonstrate functional interaction cyclin cdk10 negatively controls ets2 fig 3 new window download pptfig 3 cyclin silencing regulates c raf expression western blot analysis endogenous cdk10 cyclin expression levels mcf7 cells response sirna mediated gene silencing b western blot analysis endogenous c raf expression levels mcf7 cells response cdk10 cyclin silencing quantification shown fig s3a c quantitative rt pcr analysis cdk10 cyclin c raf mrna levels response cdk10 upper cyclin lower silencing p 0 01 p 0 001 wished explore mechanism cdk10 cyclin controls ets2 ets2 short lived protein degraded proteasome 13 straightforward hypothesis cdk10 cyclin positively controls ets2 degradation thus examined impact cdk10 cyclin silencing ets2 expression levels silencing cdk10 cyclin caused increase expression levels exogenously expressed flag ets2 protein fig s4a well endogenous ets2 protein fig 4a increase attributable increased ets2 mrna levels marginally fluctuated response cdk10 cyclin silencing fig s4b examined expression levels flag tagged ets2 protein expressed alone combination myc cdk10 cdk10 kd without cyclin v5 6his flag ets2 readily detected expressed alone lesser extent coexpressed cdk10 kd however expression level dramatically decreased coexpressed cdk10 alone cdk10 cyclin fig 4b observations suggest endogenous cyclin levels excess compared cdk10 mcf7 cells show major decrease ets2 levels observed upon cdk10 coexpression involves cdk10 kinase activity treatment cells coexpressing flag ets2 cdk10 cyclin proteasome inhibitor mg132 largely rescued flag ets2 expression levels fig 4b fig 4 new window download pptfig 4 cdk10 cyclin controls ets2 stability human cancer derived cells western blot analysis endogenous ets2 expression levels mcf7 cells response sirna mediated cdk10 cyclin silencing quantification shown fig s4b b western blot analysis exogenously expressed flag ets2 protein levels mcf7 cells cotransfected empty vectors coexpressing myc cdk10 wt kd myc cdk10 cycm v5 6his latter cells treated 16 h mg132 proteasome inhibitor proper expression cdk10 cyclin tagged proteins verified western blot analysis c western blot analysis expression levels exogenously expressed flag ets2 wild type mutant proteins mcf7 cells absence c response myc cdk10 cycm v5 6his expression quantifications shown fig s4 c mass spectrometry analysis recombinant ets2 phosphorylated cdk10 cyclin vitro revealed existence multiple phosphorylated residues among two neighboring phospho serines positions 220 225 may form phosphodegron 14 figs s5 s8 confirm finding compared phosphorylation level recombinant ets2wt ets2sasa protein mutant bearing alanine substitutions two serines expected existence multiple phosphorylation sites detected small reproducible significant decrease phosphorylation level ets2sasa compared ets2wt fig s9 thus confirming ser220 ser225 phosphorylated cdk10 cyclin establish direct link ets2 phosphorylation cdk10 cyclin degradation examined expression levels flag ets2sasa absence cdk10 cyclin coexpression differ significantly flag ets2 contrary flag ets2dbm bearing deletion n terminal destruction box previously shown involved apc cdh1 mediated degradation ets2 13 fig 4c however contrary flag ets2 wild type expression level flag ets2sasa remained insensitive cdk10 cyclin coexpression fig 4d altogether results suggest cdk10 cyclin directly controls ets2 degradation phosphorylation two serines finally studied lymphoblastoid cell line derived patient star syndrome bearing fam58a mutation c 555 1g predicted result aberrant splicing 10 accordance incomplete skewing x chromosome inactivation previously found patient detected decreased expression level cyclin protein star cell line compared control lymphoblastoid cell line line preceding observations detected increased expression level ets2 protein star cell line compared control fig 5a fig s10a examined quantitative rt pcr mrna expression levels corresponding genes star cell line showed decreased expression level cyclin mrna expression level ets2 mrna similar control cell line fig 5b demonstrate increase ets2 protein expression indeed result decreased cyclin expression observed star patient derived cell line expressed cyclin v5 6his cell line expression caused decrease ets2 protein levels fig 5c fig 5 new window download pptfig 5 decreased cyclin expression star patient derived cells results increased ets2 protein level western blot analysis cyclin ets2 protein levels star patient derived lymphoblastoid cell line control lymphoblastoid cell line derived healthy individual quantification shown fig s10a b quantitative rt pcr analysis cyclin ets2 mrna levels cells p 0 001 c western blot analysis ets2 protein levels star patient derived lymphoblastoid cell line transfected empty vector vector directing expression cyclin v5 6his another western blot revealing endogenously exogenously expressed cyclin levels shown fig s10b quantification ets2 protein levels shown fig s10c previous sectionnext sectiondiscussionin work unveil interaction cdk10 last orphan cdk discovered pregenomic era 2 cyclin cyclin associated human genetic disease far whose functions remain unknown 10 closest paralogs cdk10 within cdk family cdk11 proteins interact l type cyclins 15 interestingly closest paralog cyclins within cyclin family cyclin fig s11 fact none shorter cdk10 isoforms interact robustly cyclin suggests alternative splicing cdk10 gene 16 17 plays important role regulating cdk10 functions functional relevance interaction cdk10 cyclin supported different observations proteins seem enhance stability judged increased expression levels partner exogenously coexpressed fig 1d much reduced endogenous cdk10 expression level observed response cyclin silencing fig 3a fig s2b cdk10 subject ubiquitin mediated degradation 18 observations suggest cyclin protects cdk10 degradation cyclin partner cdk10 least mcf7 cells also suggest cyclin stability enhanced upon binding cdk10 independently kinase activity seen cyclin c cdk8 19 uncover cyclin dependent cdk10 protein kinase activity vitro thus demonstrating protein named cdk sole basis amino acid sequence indeed genuine cyclin dependent kinase y2h assays reveal truncated cyclin proteins corresponding hypothetical products two star syndrome associated fam58a mutations produce interaction phenotype cdk10 hence regardless whether mutated mrnas undergo nonsense mediated decay suggested decreased cyclin mrna levels star cells shown fig 5b give rise truncated cyclin proteins females affected star syndrome must exhibit compromised cdk10 cyclin kinase activity least tissues specific developmental stages show ets2 known interactor cdk10 phosphorylation substrate cdk10 cyclin vitro cdk10 cyclin kinase activity positively controls ets2 degradation proteasome control seems exerted fine mechanism judged sensitivity ets2 levels partially decreased cdk10 cyclin levels achieved mcf7 cells observed star cells respectively findings offer straightforward explanation already reported regulation ets2 driven transcription c raf response cdk10 silencing 6 bring evidence cdk10 cyclin directly controls ets2 degradation phosphorylation two neighboring serines may form noncanonical trcp phosphodegron dsmcpas 14 none two serines precede proline conform usual cdk phosphorylation sites however multiple called transcriptional cdks cdk7 8 9 11 cdk10 may belong fig s11 shown phosphorylate variety motifs non proline directed fashion especially context molecular docking substrate 20 hypothesized high affinity interaction cdk10 pointed domain ets2 6 9 fig 1c would allow docking mediated phosphorylation atypical sites control ets2 degradation involves number players including apc cdh1 13 cullin ring ligase crl4 21 formal identification ubiquitin ligase involved cdk10 cyclin pathway elucidation concerted action ubiquitin ligases regulate ets2 degradation require studies results present number significant biological medical implications first shed light regulation ets2 plays important role development 22 frequently deregulated many cancers 23 second results contribute understanding molecular mechanisms causing tamoxifen resistance associated reduced cdk10 expression levels suggest like cdk10 6 cyclin could also predictive clinical marker hormone therapy response er positive breast cancer patients third findings offer interesting hypothesis molecular mechanisms underlying star syndrome ets2 transgenic mice showing less twofold overexpression ets2 present severe cranial abnormalities 24 observed star patients could thus caused least part increased ets2 protein levels another expected consequence enhanced ets2 expression levels would decreased risk develop certain types cancers increased risk develop others studies various mouse models including models syndrome three copies ets2 exist revealed ets2 dosage repress promote tumor growth hence ets2 exerts noncell autonomous functions cancer 25 intringuingly one star patients identified far diagnosed nephroblastoma 26 finally findings facilitate general exploration biological functions cdk10 particular role control cell division previous studies suggested either positive role cell cycle control 5 6 tumor suppressive activity cancers 7 8 severe growth retardation exhibited star patients strongly suggests cdk10 cyclin plays important role control cell proliferation previous sectionnext sectionmaterials methodscloning cdk10 cyclin cdnas plasmid constructions tamoxifen response analysis quantitative rt pcr mass spectrometry experiments antibody production detailed si materials methods yeast two hybrid interaction assays performed yeast interaction mating assays previously described 27 mammalian cell cultures transfections grew human hek293 mcf7 cells dmem supplemented 10 vol vol fbs invitrogen grew lymphoblastoid cells rpmi 1640 glutamax supplemented 15 vol vol fbs transfected hek293 mcf7 cells using lipofectamine 2000 invitrogen plasmids lipofectamine rnaimax invitrogen sirnas jetprime polyplus plasmids sirnas combinations according manufacturers instructions transfected lymphoblastoid cells electroporation neon invitrogen ets2 stability studies treated mcf7 cells 32 h transfection 10 mg132 fisher scientific 16 h coimmunoprecipitation western blot experiments collected cells scraping pbs centrifugation lymphoblastoid cells lysed sonication lysis buffer containing 60 mm glycerophosphate 15 mm p nitrophenylphosphate 25 mm 3 n morpholino propanesulfonic acid mops ph 7 2 15 mm egta 15 mm mgcl2 1 mm na vanadate 1 mm naf 1mm phenylphosphate 0 1 nonidet p 40 protease inhibitor mixture roche spun lysates 15 min 20 000 g 4 c collected supernatants determined protein content using bradford assay performed immunoprecipitation experiments 500 g total proteins lysis buffer precleared lysates 20 l protein g agarose beads incubated 1 h 4 c rotating wheel added 5 g antibody supernatants incubated 1 h 4 c rotating wheel added 20 l protein g agarose beads incubated 1 h 4 c rotating wheel collected beads centrifugation 30 18 000 g 4 c washed three times bead buffer containing 50 mm tris ph 7 4 5 mm naf 250 mm nacl 5 mm edta 5 mm egta 0 1 nonidet p 40 protease inhibitor coktail roche directly added sample buffer washed pellets heat denatured proteins ran samples 10 bis tris sds page transferred proteins onto hybond nitrocellulose membranes processed blots according standard procedures western blot experiments used following primary antibodies anti myc abcam ab9106 1 2 000 anti v5 invitrogen r960 1 5 000 anti tubulin santa cruz biotechnology b 7 1 500 anti cdk10 covalab pab0847p 1 500 santa cruz biotechnology c 19 1 500 anti cycm home made dilution 1 500 covalab pab0882 p dilution 1 500 anti raf1 santa cruz biotechnology c 20 1 1 000 anti ets2 santa cruz biotechnology c 20 1 1 000 anti flag sigma f7425 1 1 000 anti actin sigma a5060 1 5 000 used hrp coupled anti goat santa cruz biotechnology sc 2033 dilution 1 2 000 anti mouse bio rad 170 6516 dilution 1 3 000 anti rabbit bio rad 172 1019 1 5 000 secondary antibodies revealed blots enhanced chemiluminescence supersignal west femto thermo scientific production purification recombinant proteins gst cdk10 kd strepii cycm generated recombinant bacmids dh10bac escherichia coli baculoviruses sf9 cells using bac bac system described provider invitrogen infected sf9 cells gst cdk10 gst cdk10kd producing viruses coinfected cells strepii cycm producing viruses collected cells 72 h infection purify gst fusion proteins spun 250 ml cells resuspended pellet 40 ml lysis buffer pbs 250 mm nacl 0 5 nonidet p 40 50 mm naf 10 mm glycerophosphate 0 3 mm na vanadate containing protease inhibitor mixture roche lysed cells sonication spun lysate 30 min 15 000 g collected soluble fraction added 1 ml glutathione sepharose matrix incubated 1 h 4 c washed four times lysis buffer one time kinase buffer see finally resuspended beads 100 l kinase buffer containing 10 vol vol glycerol storage 6his ets2 transformed origami2 de3 novagen 6his ets2 expression vector induced expression 0 2 mm isopropyl 1 thiogalactopyranoside 3 h 22 c purify 6his ets2 spun 50 ml cells resuspended pellet 2 ml lysis buffer pbs 300 mm nacl 10 mm imidazole 1 mm dtt 0 1 nonidet p 40 containing protease inhibitor mixture without edta roche lysed cells 1 6 bar using cell disruptor spun lysate 10 min 20 000 g collected soluble fraction added 200 l cobalt beads thermo scientific 1 h incubation 4 c rotating wheel washed four times lysis buffer elute incubated beads 30 min elution buffer pbs 250 mm imidazole ph 7 6 containing protease inhibitor mixture spun 30 10 000 g collected eluted protein protein kinase assays mixed glutathione sepharose beads harboring gst cdk10 wt kd either monomeric complexed strepii cycm 22 7 bsa 15 mm dtt 100 atp 5 ci atp 32p 7 75 histone h1 1 6his ets2 added kinase buffer 25 mm tris hcl 10 mm mgcl2 1 mm egta 1 mm dtt 3 7 heparin ph 7 5 total volume 30 l incubated reactions 30 min 30 c added laemli sample buffer heat denatured samples ran 10 bis tris sds page cut gel slices detect gst cdk10 strepii cycm western blotting stained gel slices containing substrate coomassie r 250 bio rad dried detected incorporated radioactivity autoradiography identified four unrelated girls anogenital renal malformations dysmorphic facial features normal intellect syndactyly toes similar combination features reported previously mother daughter pair1 table 1 supplementary note online authors noted clinical overlap townes brocks syndrome suggested phenotype represented separate autosomal dominant entity mim601446 define cardinal features syndrome characteristic facial appearance apparent telecanthus broad tripartite nasal tip variable syndactyly toes 2 5 hypoplastic labia anal atresia urogenital malformations fig 1a h also observed variety features table 1 figure 1 clinical molecular characterization star syndrome figure 1 clinical molecular characterization star syndrome f facial appearances cases 1 3 apparent telecanthus dysplastic ears thin upper lips c e toe syndactyly 2 5 3 5 4 5 b f cases illustrate recognizable features star syndrome specific parental consent obtained publication photographs anal atresia hypoplastic labia shown g h x ray films feet case 2 showing four rays left delta shaped 4th 5th metatarsals right h compare clinical picture array cgh data log2 ratio represents copy number loss six probes spanning 37 9 50 7 kb one probe positioned within fam58a deletion remove parts functional genes j schematic structure fam58a position mutations fam58a five coding exons boxes cyclin domain green encoded exons 2 4 horizontal arrow indicates deletion extending 5 case 1 includes exons 1 2 whereas horizontal line exon 5 indicates deletion found case 3 removes exon 5 3 sequence pink horizontal bars boxes indicate amplicons used qpcr sequencing one alternative exon 5 amplicon indicated space constraints mutation 201dupt case 4 results immediate stop codon 555 1g 555 1g splice mutations cases 2 5 6 predicted deleterious alter conserved splice donor acceptor site intron 4 respectively full size image 97 kb table 1 clinical features star syndrome cases table 1 clinical features star syndrome cases full table basis phenotypic overlap townes brocks okihiro feingold syndromes analyzed sall1 ref 2 sall4 ref 3 mycn4 found mutations genes supplementary methods online next carried genome wide high resolution oligonucleotide array comparative genomic hybridization cgh 5 analysis supplementary methods genomic dna severely affected individual case 1 lower lid coloboma epilepsy syringomyelia identified heterozygous deletion 37 9 50 7 kb xq28 removed exons 1 2 fam58a fig 1i j using real time pcr confirmed deletion child excluded unaffected parents supplementary fig 1a online supplementary methods supplementary table 1 online cgh customized oligonucleotide array enriched probes xq28 followed breakpoint cloning defined exact deletion size 40 068 bp g 152 514 164 152 554 231del chromosome x ncbi build 36 2 fig 1j supplementary figs 2 3 online deletion removes coding regions exons 1 2 well intron 1 2 774 bp 492 bp intron 2 36 608 bp 5 sequence including 5 utr entire krt18p48 pseudogene ncbi gene id 340598 paternity proven using routine methods find deletions overlapping fam58a available copy number variation cnv databases subsequently carried qpcr analysis three affected individuals cases 2 3 4 mother daughter pair literature cases 5 6 case 3 detected de novo heterozygous deletion 1 1 10 3 kb overlapping exon 5 supplementary fig 1b online using xq28 targeted array cgh breakpoint cloning identified deletion 4 249 bp g 152 504 123 152 508 371del chromosome x ncbi build 36 2 fig 1j supplementary figs 2 3 removed 1 265 bp intron 4 exon 5 including 3 utr 2 454 bp 3 sequence found heterozygous fam58a point mutations remaining cases fig 1j supplementary fig 2 supplementary methods supplementary table 1 case 2 identified mutation 555 1g affecting splice donor site intron 4 case 4 identified frameshift mutation 201dupt immediately results premature stop codon n68xfsx1 cases 5 6 detected mutation 556 1g alters splice acceptor site intron 4 validated point mutations deletions independent rounds pcr sequencing qpcr confirmed paternity de novo status point mutations deletions sporadic cases none mutations seen dna 60 unaffected female controls larger deletions involving fam58a found 93 unrelated array cgh investigations analyzing x chromosome inactivation supplementary methods supplementary fig 4 online found complete skewing x inactivation cases 1 3 6 almost complete skewing case 2 suggesting cells carrying mutation active x chromosome growth disadvantage fetal development using rt pcr rna lymphoblastoid cells case 2 supplementary fig 2 find aberrant splice products additional evidence mutated allele inactivated furthermore fam58a subjected x inactivation6 cases 1 3 parental origin deletions could determined result lack informative snps case 5 mother case 6 gave birth two boys clinically unaffected samples available cannot exclude condition lethal males fetal losses reported families function fam58a unknown gene consists five coding exons 642 bp coding region encodes protein 214 amino acids genbank lists mrna length 1 257 bp reference sequence nm 152274 2 expression gene est data found 27 48 adult tissues including kidney colon cervix uterus heart ncbi expression viewer unigene hs 496943 expression also noted 24 26 listed tumor tissues well embryo fetus genes homologous fam58a ncbi homologene 13362 found x chromosome chimpanzee dog zebrafish similar gene chromosome 23 however mouse rat true homologs species similar intronless genes chromosomes 11 mouse 10 rat likely arising retrotransposon insertion event murine x chromosome flanking genes atp2b3 dusp9 conserved remnants fam58a sequence detected fam58a contains cyclin box fold domain protein binding domain found cyclins role cell cycle transcription control human phenotype resulting cyclin gene mutation yet reported homozygous knockout mice ccnd1 encoding cyclin d1 viable small reduced lifespan also dystrophic changes retina likely result decreased cell proliferation degeneration photoreceptor cells embryogenesis7 8 cyclin d1 colocalizes sall4 nucleus proteins cooperatively mediate transcriptional repression9 phenotype cases overlaps considerably townes brocks syndrome caused sall1 mutations1 carried co immunoprecipitation find sall1 sall4 would interact fam58a manner similar observed sall4 cyclin d1 found fam58a interacts sall1 sall4 supplementary fig 5 online supporting hypothesis fam58a sall1 participate developmental pathway fam58a mutations lead star syndrome growth retardation cases table 1 retinal abnormalities three cases reminiscent reduced body size retinal anomalies cyclin d1 knockout mice7 8 therefore proliferation defect might partly responsible star syndrome address question carried knockdown fam58a mrna followed proliferation assay transfection hek293 cells three different fam58a specific rnai oligonucleotides resulted significant reduction fam58a mrna expression proliferation transfected cells supplementary methods supplementary fig 6 online supporting link fam58a cell proliferation found loss function mutations fam58a result rather homogeneous clinical phenotype additional anomalies case 1 likely result effect 40 kb deletion expression neighboring gene possibly atp2b3 dusp9 however cannot exclude homogeneous phenotype results ascertainment bias fam58a mutations including missense changes could result broader spectrum malformations genes causing overlapping phenotypes star syndrome townes brocks syndrome seem act pathway note mycn gene mutated feingold syndrome direct regulator cyclin d2 refs 10 11 thus worth exploring whether phenotypic similarities feingold star syndrome might explained direct regulation fam58a mycn fam58a located approximately 0 56 mb centromeric mecp2 xq28 duplications overlapping mecp2 fam58a described associated clinical phenotype females12 deletions overlapping mecp2 fam58a observed date13 although genes fam58a mecp2 implicated brain development fam58a mecp2 genes region known result x linked dominant phenotypes thus deletion genes allele might lethal males females '"
      ]
     },
     "execution_count": 45,
     "metadata": {},
     "output_type": "execute_result"
    }
   ],
   "source": [
    "training_merge['Text'][0]"
   ]
  },
  {
   "cell_type": "code",
   "execution_count": 48,
   "metadata": {},
   "outputs": [],
   "source": [
    "lda = LatentDirichletAllocation(max_iter=5,\n",
    "                                learning_method='online',\n",
    "                                learning_offset=50.,\n",
    "                                random_state=0)"
   ]
  },
  {
   "cell_type": "code",
   "execution_count": 49,
   "metadata": {
    "collapsed": true
   },
   "outputs": [],
   "source": [
    "tfidf = TfidfVectorizer(\n",
    "    min_df=5, max_features=16000, strip_accents='unicode',lowercase =True, \n",
    "    analyzer='word', token_pattern=r'\\w+', ngram_range=(1,4), use_idf=True, \n",
    "    smooth_idf=True, sublinear_tf=True, stop_words = 'english'\n",
    ").fit(training_merge['Text'])"
   ]
  },
  {
   "cell_type": "code",
   "execution_count": 64,
   "metadata": {},
   "outputs": [],
   "source": [
    "X_train_tfidfmatrix = tfidf.transform(training_merge['Text'].values)\n",
    "X_test_tfidfmatrix = tfidf.transform(test_merge['Text'].values)\n",
    "\n",
    "y_train = training_merge['Class'].values"
   ]
  },
  {
   "cell_type": "code",
   "execution_count": 65,
   "metadata": {},
   "outputs": [
    {
     "data": {
      "text/plain": [
       "LatentDirichletAllocation(batch_size=128, doc_topic_prior=None,\n",
       "             evaluate_every=-1, learning_decay=0.7,\n",
       "             learning_method='online', learning_offset=50.0,\n",
       "             max_doc_update_iter=100, max_iter=5, mean_change_tol=0.001,\n",
       "             n_jobs=1, n_topics=10, perp_tol=0.1, random_state=0,\n",
       "             topic_word_prior=None, total_samples=1000000.0, verbose=0)"
      ]
     },
     "execution_count": 65,
     "metadata": {},
     "output_type": "execute_result"
    }
   ],
   "source": [
    "lda.fit(X_train_tfidfmatrix)"
   ]
  },
  {
   "cell_type": "code",
   "execution_count": 66,
   "metadata": {},
   "outputs": [
    {
     "data": {
      "text/plain": [
       "LatentDirichletAllocation(batch_size=128, doc_topic_prior=None,\n",
       "             evaluate_every=-1, learning_decay=0.7,\n",
       "             learning_method='online', learning_offset=50.0,\n",
       "             max_doc_update_iter=100, max_iter=5, mean_change_tol=0.001,\n",
       "             n_jobs=1, n_topics=10, perp_tol=0.1, random_state=0,\n",
       "             topic_word_prior=None, total_samples=1000000.0, verbose=0)"
      ]
     },
     "execution_count": 66,
     "metadata": {},
     "output_type": "execute_result"
    }
   ],
   "source": [
    "lda.fit(X_test_tfidfmatrix)"
   ]
  },
  {
   "cell_type": "code",
   "execution_count": 67,
   "metadata": {},
   "outputs": [
    {
     "name": "stdout",
     "output_type": "stream",
     "text": [
      "(3321, 16000)\n"
     ]
    }
   ],
   "source": [
    "print(X_train_tfidfmatrix.shape)"
   ]
  },
  {
   "cell_type": "code",
   "execution_count": 68,
   "metadata": {},
   "outputs": [
    {
     "name": "stdout",
     "output_type": "stream",
     "text": [
      "(986, 16000)\n"
     ]
    }
   ],
   "source": [
    "print(X_test_tfidfmatrix.shape)"
   ]
  },
  {
   "cell_type": "code",
   "execution_count": 69,
   "metadata": {},
   "outputs": [],
   "source": [
    "X_train, X_test, Y_train, Y_test = train_test_split(X_train_tfidfmatrix,y_train,random_state=1)"
   ]
  },
  {
   "cell_type": "code",
   "execution_count": 70,
   "metadata": {},
   "outputs": [
    {
     "name": "stdout",
     "output_type": "stream",
     "text": [
      "MultinomialNB Accuracy: 0.546329723225\n",
      "             precision    recall  f1-score   support\n",
      "\n",
      "          1       0.48      0.54      0.51       142\n",
      "          2       0.71      0.13      0.22       117\n",
      "          3       0.00      0.00      0.00        27\n",
      "          4       0.65      0.48      0.55       170\n",
      "          5       0.36      0.32      0.34        50\n",
      "          6       0.78      0.41      0.54        61\n",
      "          7       0.54      0.96      0.69       250\n",
      "          8       0.00      0.00      0.00         5\n",
      "          9       0.00      0.00      0.00         9\n",
      "\n",
      "avg / total       0.55      0.55      0.50       831\n",
      "\n"
     ]
    },
    {
     "name": "stderr",
     "output_type": "stream",
     "text": [
      "E:\\Anaconda\\lib\\site-packages\\sklearn\\metrics\\classification.py:1113: UndefinedMetricWarning: Precision and F-score are ill-defined and being set to 0.0 in labels with no predicted samples.\n",
      "  'precision', 'predicted', average, warn_for)\n"
     ]
    }
   ],
   "source": [
    "clfA = MultinomialNB().fit(X_train, Y_train)\n",
    "predicted= clfA.predict(X_test)\n",
    "print(\"MultinomialNB Accuracy:\",metrics.accuracy_score(Y_test, predicted))\n",
    "print(classification_report(Y_test,predicted))"
   ]
  },
  {
   "cell_type": "code",
   "execution_count": 71,
   "metadata": {
    "collapsed": true
   },
   "outputs": [],
   "source": [
    "#Creating a stacked model"
   ]
  },
  {
   "cell_type": "code",
   "execution_count": 72,
   "metadata": {},
   "outputs": [
    {
     "name": "stdout",
     "output_type": "stream",
     "text": [
      "RandomForestClassifier 0.453221758339 0.0694804800442\n",
      "RandomForestClassifier 0.401049442675 0.0674994732279\n",
      "ExtraTreesClassifier 0.434194126335 0.0739748739112\n",
      "ExtraTreesClassifier 0.401864454613 0.0626731841339\n",
      "KNeighborsClassifier 0.376455914597 0.0790622862998\n",
      "KNeighborsClassifier 0.378857800092 0.0872023182411\n",
      "SVC 0.28697303984 0.00162263819212\n",
      "SVC 0.28697303984 0.00162263819212\n",
      "RidgeClassifier 0.441322476082 0.0644431783677\n",
      "RidgeClassifier 0.28697303984 0.00162263819212\n"
     ]
    }
   ],
   "source": [
    "seed = 1075\n",
    "np.random.seed(seed)\n",
    "rf = RandomForestClassifier()\n",
    "et = ExtraTreesClassifier()\n",
    "knn = KNeighborsClassifier()\n",
    "svc = SVC()\n",
    "rg = RidgeClassifier()\n",
    "clf_array = [rf, et, knn, svc, rg]\n",
    "for clf in clf_array:\n",
    "    vanilla_scores = cross_val_score(clf,X_train_tfidfmatrix,y_train, cv=10, n_jobs=-1)\n",
    "    bagging_clf = BaggingClassifier(clf, \n",
    "       max_samples=0.4, max_features=10, random_state=seed)\n",
    "    bagging_scores = cross_val_score(bagging_clf,X_train_tfidfmatrix,y_train, cv=10, \n",
    "       n_jobs=-1)\n",
    "    \n",
    "    print (clf.__class__.__name__,vanilla_scores.mean(), vanilla_scores.std())\n",
    "    print (clf.__class__.__name__,bagging_scores.mean(), bagging_scores.std())"
   ]
  },
  {
   "cell_type": "code",
   "execution_count": 80,
   "metadata": {
    "collapsed": true
   },
   "outputs": [],
   "source": [
    "rf = ['rf',RandomForestClassifier()]\n",
    "et = ['et',ExtraTreesClassifier()]\n",
    "knn =['knn',KNeighborsClassifier()]\n",
    "svc = ['svc',SVC(probability=True)]\n",
    "rg = ['rg',RidgeClassifier()]\n",
    "ada_boost = ['adb',AdaBoostClassifier()]\n",
    "grad_boost = ['gdb',GradientBoostingClassifier()]\n",
    "xgb_boost = ['xgb',XGBClassifier()]\n",
    "clfs=[rf, et, knn, svc, ada_boost, grad_boost, xgb_boost]"
   ]
  },
  {
   "cell_type": "code",
   "execution_count": 81,
   "metadata": {},
   "outputs": [],
   "source": [
    "eclf = VotingClassifier(estimators=clfs, voting='hard')"
   ]
  },
  {
   "cell_type": "code",
   "execution_count": 82,
   "metadata": {},
   "outputs": [
    {
     "data": {
      "text/plain": [
       "VotingClassifier(estimators=[['rf', RandomForestClassifier(bootstrap=True, class_weight=None, criterion='gini',\n",
       "            max_depth=None, max_features='auto', max_leaf_nodes=None,\n",
       "            min_impurity_split=1e-07, min_samples_leaf=1,\n",
       "            min_samples_split=2, min_weight_fraction_leaf=0.0,\n",
       "            n_...\n",
       "       reg_lambda=1, scale_pos_weight=1, seed=None, silent=None,\n",
       "       subsample=1, verbosity=1)]],\n",
       "         n_jobs=1, voting='hard', weights=None)"
      ]
     },
     "execution_count": 82,
     "metadata": {},
     "output_type": "execute_result"
    }
   ],
   "source": [
    "eclf.fit(X_train_tfidfmatrix,y_train)"
   ]
  },
  {
   "cell_type": "code",
   "execution_count": 92,
   "metadata": {},
   "outputs": [
    {
     "data": {
      "text/plain": [
       "VotingClassifier(estimators=[['rf', RandomForestClassifier(bootstrap=True, class_weight=None, criterion='gini',\n",
       "            max_depth=None, max_features='auto', max_leaf_nodes=None,\n",
       "            min_impurity_split=1e-07, min_samples_leaf=1,\n",
       "            min_samples_split=2, min_weight_fraction_leaf=0.0,\n",
       "            n_...\n",
       "       reg_lambda=1, scale_pos_weight=1, seed=None, silent=None,\n",
       "       subsample=1, verbosity=1)]],\n",
       "         n_jobs=1, voting='hard', weights=None)"
      ]
     },
     "execution_count": 92,
     "metadata": {},
     "output_type": "execute_result"
    }
   ],
   "source": [
    "eclf"
   ]
  },
  {
   "cell_type": "code",
   "execution_count": 86,
   "metadata": {},
   "outputs": [],
   "source": [
    "y_pred=eclf.predict(X_test.toarray())"
   ]
  },
  {
   "cell_type": "code",
   "execution_count": 94,
   "metadata": {},
   "outputs": [
    {
     "name": "stdout",
     "output_type": "stream",
     "text": [
      "0.839951865223\n"
     ]
    }
   ],
   "source": [
    "print(accuracy_score(Y_test,y_pred))"
   ]
  },
  {
   "cell_type": "code",
   "execution_count": 87,
   "metadata": {},
   "outputs": [
    {
     "name": "stdout",
     "output_type": "stream",
     "text": [
      "             precision    recall  f1-score   support\n",
      "\n",
      "          1       0.80      0.83      0.82       142\n",
      "          2       0.98      0.73      0.83       117\n",
      "          3       0.72      0.48      0.58        27\n",
      "          4       0.86      0.91      0.89       170\n",
      "          5       0.69      0.48      0.56        50\n",
      "          6       0.86      0.84      0.85        61\n",
      "          7       0.82      0.96      0.88       250\n",
      "          8       1.00      0.80      0.89         5\n",
      "          9       1.00      0.89      0.94         9\n",
      "\n",
      "avg / total       0.84      0.84      0.83       831\n",
      "\n"
     ]
    }
   ],
   "source": [
    "print(classification_report(Y_test,y_pred))"
   ]
  },
  {
   "cell_type": "code",
   "execution_count": null,
   "metadata": {
    "collapsed": true
   },
   "outputs": [],
   "source": [
    "y_test_predicted=eclf.predict_proba(X_test_tfidfmatrix)"
   ]
  },
  {
   "cell_type": "code",
   "execution_count": null,
   "metadata": {
    "collapsed": true
   },
   "outputs": [],
   "source": [
    "submission_df = pd.DataFrame(y_test_predicted, columns=['class' + str(c + 1) for c in range(9)])\n",
    "submission_df['ID'] = test_merge['ID']"
   ]
  },
  {
   "cell_type": "code",
   "execution_count": null,
   "metadata": {
    "collapsed": true
   },
   "outputs": [],
   "source": [
    "submission_df.head()"
   ]
  },
  {
   "cell_type": "code",
   "execution_count": null,
   "metadata": {
    "collapsed": true
   },
   "outputs": [],
   "source": [
    "submission_df.to_csv('sub.csv', index=False)"
   ]
  }
 ],
 "metadata": {
  "kernelspec": {
   "display_name": "Python 3",
   "language": "python",
   "name": "python3"
  },
  "language_info": {
   "codemirror_mode": {
    "name": "ipython",
    "version": 3
   },
   "file_extension": ".py",
   "mimetype": "text/x-python",
   "name": "python",
   "nbconvert_exporter": "python",
   "pygments_lexer": "ipython3",
   "version": "3.6.9"
  }
 },
 "nbformat": 4,
 "nbformat_minor": 4
}
